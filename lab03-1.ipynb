{
 "cells": [
  {
   "cell_type": "code",
   "execution_count": 1,
   "id": "0187664b",
   "metadata": {},
   "outputs": [],
   "source": [
    "message = 'And now for something completely different'"
   ]
  },
  {
   "cell_type": "code",
   "execution_count": 2,
   "id": "930ffd90",
   "metadata": {},
   "outputs": [],
   "source": [
    "n=17"
   ]
  },
  {
   "cell_type": "code",
   "execution_count": 3,
   "id": "1399567a",
   "metadata": {},
   "outputs": [],
   "source": [
    "pi = 3.1415926535897932"
   ]
  },
  {
   "cell_type": "code",
   "execution_count": 4,
   "id": "19c4dfe5",
   "metadata": {},
   "outputs": [
    {
     "data": {
      "text/plain": [
       "6"
      ]
     },
     "execution_count": 4,
     "metadata": {},
     "output_type": "execute_result"
    }
   ],
   "source": [
    "x=5\n",
    "x+1"
   ]
  },
  {
   "cell_type": "code",
   "execution_count": 5,
   "id": "fca8077b",
   "metadata": {},
   "outputs": [
    {
     "ename": "SyntaxError",
     "evalue": "cannot assign to literal (Temp/ipykernel_36612/1998619198.py, line 1)",
     "output_type": "error",
     "traceback": [
      "\u001b[1;36m  File \u001b[1;32m\"C:\\Users\\Nooleone\\AppData\\Local\\Temp/ipykernel_36612/1998619198.py\"\u001b[1;36m, line \u001b[1;32m1\u001b[0m\n\u001b[1;33m    43=n\u001b[0m\n\u001b[1;37m    ^\u001b[0m\n\u001b[1;31mSyntaxError\u001b[0m\u001b[1;31m:\u001b[0m cannot assign to literal\n"
     ]
    }
   ],
   "source": [
    "43=n"
   ]
  },
  {
   "cell_type": "code",
   "execution_count": 6,
   "id": "2697804c",
   "metadata": {},
   "outputs": [],
   "source": [
    "x=y=1"
   ]
  },
  {
   "cell_type": "code",
   "execution_count": 7,
   "id": "aa02e703",
   "metadata": {},
   "outputs": [],
   "source": [
    "message = 'And now for something completely different';"
   ]
  },
  {
   "cell_type": "code",
   "execution_count": 8,
   "id": "02ca0fa2",
   "metadata": {},
   "outputs": [
    {
     "ename": "NameError",
     "evalue": "name 'xy' is not defined",
     "output_type": "error",
     "traceback": [
      "\u001b[1;31m---------------------------------------------------------------------------\u001b[0m",
      "\u001b[1;31mNameError\u001b[0m                                 Traceback (most recent call last)",
      "\u001b[1;32m~\\AppData\\Local\\Temp/ipykernel_36612/3424147140.py\u001b[0m in \u001b[0;36m<module>\u001b[1;34m\u001b[0m\n\u001b[1;32m----> 1\u001b[1;33m \u001b[0mxy\u001b[0m\u001b[1;33m\u001b[0m\u001b[1;33m\u001b[0m\u001b[0m\n\u001b[0m",
      "\u001b[1;31mNameError\u001b[0m: name 'xy' is not defined"
     ]
    }
   ],
   "source": [
    "xy"
   ]
  },
  {
   "cell_type": "code",
   "execution_count": 9,
   "id": "bb88eb63",
   "metadata": {},
   "outputs": [],
   "source": [
    "import math"
   ]
  },
  {
   "cell_type": "code",
   "execution_count": 10,
   "id": "67c3ef1c",
   "metadata": {},
   "outputs": [
    {
     "ename": "NameError",
     "evalue": "name 'pai' is not defined",
     "output_type": "error",
     "traceback": [
      "\u001b[1;31m---------------------------------------------------------------------------\u001b[0m",
      "\u001b[1;31mNameError\u001b[0m                                 Traceback (most recent call last)",
      "\u001b[1;32m~\\AppData\\Local\\Temp/ipykernel_36612/1674184774.py\u001b[0m in \u001b[0;36m<module>\u001b[1;34m\u001b[0m\n\u001b[1;32m----> 1\u001b[1;33m \u001b[0mpai\u001b[0m\u001b[1;33m\u001b[0m\u001b[1;33m\u001b[0m\u001b[0m\n\u001b[0m",
      "\u001b[1;31mNameError\u001b[0m: name 'pai' is not defined"
     ]
    }
   ],
   "source": [
    "pai"
   ]
  },
  {
   "cell_type": "code",
   "execution_count": 11,
   "id": "63d9f4fb",
   "metadata": {},
   "outputs": [
    {
     "data": {
      "text/plain": [
       "3.141592653589793"
      ]
     },
     "execution_count": 11,
     "metadata": {},
     "output_type": "execute_result"
    }
   ],
   "source": [
    "math.pi"
   ]
  },
  {
   "cell_type": "code",
   "execution_count": 12,
   "id": "8b397be4",
   "metadata": {},
   "outputs": [],
   "source": [
    "pi=math.pi\n",
    "r=5"
   ]
  },
  {
   "cell_type": "code",
   "execution_count": 17,
   "id": "bb6ab107",
   "metadata": {},
   "outputs": [
    {
     "data": {
      "text/plain": [
       "294.5243112740431"
      ]
     },
     "execution_count": 17,
     "metadata": {},
     "output_type": "execute_result"
    }
   ],
   "source": [
    "Volume=(3/4)*pi*(r**3)\n",
    "Volume #Answer of question 1\n"
   ]
  },
  {
   "cell_type": "code",
   "execution_count": 3,
   "id": "eb92c4a9",
   "metadata": {},
   "outputs": [
    {
     "data": {
      "text/plain": [
       "945.4499999999999"
      ]
     },
     "execution_count": 3,
     "metadata": {},
     "output_type": "execute_result"
    }
   ],
   "source": [
    "a=24.95*0.6*60\n",
    "b=3+59*0.75\n",
    "c=a+b\n",
    "c #Answer for question 2"
   ]
  },
  {
   "cell_type": "code",
   "execution_count": 10,
   "id": "23385cfa",
   "metadata": {},
   "outputs": [
    {
     "ename": "SyntaxError",
     "evalue": "invalid syntax (Temp/ipykernel_28444/1510569788.py, line 6)",
     "output_type": "error",
     "traceback": [
      "\u001b[1;36m  File \u001b[1;32m\"C:\\Users\\Nooleone\\AppData\\Local\\Temp/ipykernel_28444/1510569788.py\"\u001b[1;36m, line \u001b[1;32m6\u001b[0m\n\u001b[1;33m    eat=7:30:6\u001b[0m\n\u001b[1;37m         ^\u001b[0m\n\u001b[1;31mSyntaxError\u001b[0m\u001b[1;31m:\u001b[0m invalid syntax\n"
     ]
    }
   ],
   "source": [
    "es=495*2\n",
    "tem=432*3\n",
    "total=es+tem\n",
    "total\n",
    "ti=total/60\n",
    "#time for brekferst is 7:30:06"
   ]
  },
  {
   "cell_type": "code",
   "execution_count": 16,
   "id": "e502dbef",
   "metadata": {},
   "outputs": [
    {
     "data": {
      "text/plain": [
       "3"
      ]
     },
     "execution_count": 16,
     "metadata": {},
     "output_type": "execute_result"
    }
   ],
   "source": [
    "# chapter 8 exercise 2\n",
    "word='banana';\n",
    "sub='a';\n",
    "word.count(sub)"
   ]
  },
  {
   "cell_type": "code",
   "execution_count": 76,
   "id": "2eb59135",
   "metadata": {},
   "outputs": [
    {
     "data": {
      "text/plain": [
       "True"
      ]
     },
     "execution_count": 76,
     "metadata": {},
     "output_type": "execute_result"
    }
   ],
   "source": [
    "# chapter 8 exercise 3\n",
    "def first(word):\n",
    "    return word[0]\n",
    "\n",
    "def last(word):\n",
    "    return word[-1]\n",
    "\n",
    "def middle(word):\n",
    "    return word[1:-1]\n",
    "\n",
    "middle(\"go\")\n",
    "middle(\"a\")\n",
    "middle('')\n",
    "first('allen')\n",
    "\n",
    "\n",
    "\n",
    "def is_palindrom(word):\n",
    "    if len(word)<=1:\n",
    "        return False\n",
    "    if first(word) != last(word):\n",
    "        return False\n",
    "    if word==word[::-1]:\n",
    "        return True\n",
    " \n",
    "is_palindrom('otto')\n",
    "\n",
    "\n",
    "\n",
    "\n",
    "\n"
   ]
  },
  {
   "cell_type": "code",
   "execution_count": 78,
   "id": "ef338686",
   "metadata": {},
   "outputs": [
    {
     "name": "stdout",
     "output_type": "stream",
     "text": [
      "result1 True\n",
      "result2 True\n",
      "result3 False\n",
      "result4 True\n",
      "result5 False\n"
     ]
    }
   ],
   "source": [
    "#chapter 8 exercise 4\n",
    "def any_lowercase1(s):\n",
    "    for c in s:\n",
    "        if c.islower():\n",
    "            return True\n",
    "        else:\n",
    "            return False\n",
    "\n",
    "def any_lowercase2(s):\n",
    "    for c in s:\n",
    "        if 'c'.islower():\n",
    "            return 'True'\n",
    "        else:\n",
    "            return 'False'\n",
    "\n",
    "def any_lowercase3(s):\n",
    "    for c in s:\n",
    "        flag = c.islower()\n",
    "    return flag\n",
    "\n",
    "def any_lowercase4(s):\n",
    "    flag = False\n",
    "    for c in s:\n",
    "        flag = flag or c.islower()\n",
    "    return flag\n",
    "\n",
    "def any_lowercase5(s):\n",
    "    for c in s:\n",
    "        if not c.islower():\n",
    "            return False\n",
    "    return True\n",
    "\n",
    "print('result1',any_lowercase1('abcDEF'))\n",
    "print('result2',any_lowercase2('abcDEF'))\n",
    "print('result3',any_lowercase3('abcDEF'))\n",
    "print('result4',any_lowercase4('abcDEF'))\n",
    "print('result5',any_lowercase5('abcDEF'))\n",
    "\n"
   ]
  },
  {
   "cell_type": "code",
   "execution_count": 105,
   "id": "28e7a5e3",
   "metadata": {},
   "outputs": [
    {
     "name": "stdout",
     "output_type": "stream",
     "text": [
      "jolly!\n",
      "cubed\n",
      "Bunny\n"
     ]
    }
   ],
   "source": [
    "# chapter 8 exercise 5\n",
    "ord('f')-ord('a')\n",
    "\n",
    "def rotate_letter(letter, amount):\n",
    "    if letter.isupper():\n",
    "        start_code = ord('A')\n",
    "    elif letter.islower():\n",
    "        start_code = ord('a')\n",
    "    else:\n",
    "        # if 'letter' is not a letter, don't rotate\n",
    "        return letter\n",
    "\n",
    "    # rotate letter *within* range of alphabet\n",
    "    letter_code = ord(letter) - start_code\n",
    "    # '%' will return operand if under 26\n",
    "    # or operand - 26 if over 26\n",
    "    new_letter_code = (letter_code + amount) % 26 + start_code\n",
    "    return chr(new_letter_code)\n",
    "\n",
    "def rotate_word(word, amount=0):\n",
    "    rv = ''\n",
    "    for letter in word:\n",
    "        rv = rv + rotate_letter(letter, amount)\n",
    "    return rv\n",
    "\n",
    "# tests from solution in book\n",
    "print(rotate_word('cheer!', 7))\n",
    "print(rotate_word('melon', -10))\n",
    "print(rotate_word('Sleep', 9))"
   ]
  },
  {
   "cell_type": "code",
   "execution_count": 95,
   "id": "04b86f42",
   "metadata": {},
   "outputs": [
    {
     "data": {
      "text/plain": [
       "'c'"
      ]
     },
     "execution_count": 95,
     "metadata": {},
     "output_type": "execute_result"
    }
   ],
   "source": [
    "ord('D')-ord('a')\n",
    "rm=\"a\"+\"b\"\n",
    "chr(99)"
   ]
  },
  {
   "cell_type": "code",
   "execution_count": 108,
   "id": "5e5a68d1",
   "metadata": {},
   "outputs": [
    {
     "name": "stdout",
     "output_type": "stream",
     "text": [
      "jolly!\n",
      "cubed\n",
      "Bunny\n"
     ]
    }
   ],
   "source": [
    "def rotate_letter(letter,amount):\n",
    "    if letter.isupper():\n",
    "        start=ord('A')\n",
    "    elif letter.islower():\n",
    "        start=ord('a')\n",
    "    else:\n",
    "        #if letter is not a letter\n",
    "        return letter\n",
    "    \n",
    "    letter_code=ord(letter)-start\n",
    "    newletter_code=(letter_code+amount)%26+start\n",
    "    return chr(newletter_code)\n",
    "\n",
    "def rotate_word(word, amount=0):\n",
    "    rv = ''\n",
    "    for letter in word:\n",
    "        rv = rv + rotate_letter(letter, amount)\n",
    "    return rv\n",
    "\n",
    "# tests from solution in book\n",
    "print(rotate_word('cheer!', 7))\n",
    "print(rotate_word('melon', -10))\n",
    "print(rotate_word('Sleep', 9))\n",
    "\n",
    "\n",
    "    "
   ]
  }
 ],
 "metadata": {
  "kernelspec": {
   "display_name": "Python 3 (ipykernel)",
   "language": "python",
   "name": "python3"
  },
  "language_info": {
   "codemirror_mode": {
    "name": "ipython",
    "version": 3
   },
   "file_extension": ".py",
   "mimetype": "text/x-python",
   "name": "python",
   "nbconvert_exporter": "python",
   "pygments_lexer": "ipython3",
   "version": "3.9.7"
  }
 },
 "nbformat": 4,
 "nbformat_minor": 5
}
